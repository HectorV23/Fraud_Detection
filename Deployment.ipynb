{
  "nbformat": 4,
  "nbformat_minor": 0,
  "metadata": {
    "colab": {
      "provenance": []
    },
    "kernelspec": {
      "name": "python3",
      "display_name": "Python 3"
    },
    "language_info": {
      "name": "python"
    }
  },
  "cells": [
    {
      "cell_type": "markdown",
      "source": [
        "#Model Deployment"
      ],
      "metadata": {
        "id": "KOmlV9av3Xu2"
      }
    },
    {
      "cell_type": "code",
      "source": [
        "import pandas as pd\n",
        "import numpy as np\n",
        "import matplotlib.pyplot as plt\n",
        "import seaborn as sns\n",
        "import io\n",
        "import scipy.stats\n",
        "import scipy.special\n",
        "import sklearn.linear_model\n",
        "import statsmodels.api as sm\n",
        "from sklearn.linear_model import LogisticRegression\n",
        "from sklearn.model_selection import train_test_split\n",
        "from sklearn import metrics\n",
        "from sklearn.metrics import accuracy_score\n",
        "from sklearn.metrics import roc_auc_score\n",
        "from sklearn.metrics import roc_curve\n",
        "from sklearn.metrics import f1_score\n",
        "from sklearn.metrics import recall_score\n",
        "from sklearn.preprocessing import StandardScaler\n",
        "from sklearn.preprocessing import LabelEncoder\n",
        "from sklearn.utils import resample\n",
        "from sklearn.metrics import accuracy_score, classification_report, balanced_accuracy_score, confusion_matrix\n",
        "from sklearn.ensemble import RandomForestClassifier\n",
        "import xgboost as xgb\n",
        "from xgboost import XGBClassifier\n",
        "import pickle\n",
        "\n",
        "\n"
      ],
      "metadata": {
        "id": "-kOqiFZHbcdv"
      },
      "execution_count": 15,
      "outputs": []
    },
    {
      "cell_type": "code",
      "source": [
        "data = pd.read_csv('fraud_dectectionscaled.csv')\n",
        "data = data.drop(columns = 'Unnamed: 0')\n",
        "data"
      ],
      "metadata": {
        "id": "G9LqF9gkbcam",
        "colab": {
          "base_uri": "https://localhost:8080/",
          "height": 488
        },
        "outputId": "c27602dc-2c15-4008-d40e-6c4ec6228017"
      },
      "execution_count": 16,
      "outputs": [
        {
          "output_type": "execute_result",
          "data": {
            "text/plain": [
              "            Amount  OldbalanceOrg  NewbalanceOrig  OldbalanceDest  \\\n",
              "0          9839.64      170136.00       160296.36            0.00   \n",
              "1          1864.28       21249.00        19384.72            0.00   \n",
              "2           181.00         181.00            0.00            0.00   \n",
              "3           181.00         181.00            0.00        21182.00   \n",
              "4         11668.14       41554.00        29885.86            0.00   \n",
              "...            ...            ...             ...             ...   \n",
              "4640047   19174.01    15862542.60     15881716.61        63855.86   \n",
              "4640048  365371.68    15881716.61     16247088.29      6206805.15   \n",
              "4640049  274177.98    16247088.29     16521266.28      9222511.32   \n",
              "4640050  239361.79    16521266.28     16760628.07      3812884.47   \n",
              "4640051  118908.47          16.00             NaN             NaN   \n",
              "\n",
              "         NewbalanceDest  Fraud  Type_CASH_OUT  Type_DEBIT  Type_PAYMENT  \\\n",
              "0                  0.00    0.0            0.0         0.0           1.0   \n",
              "1                  0.00    0.0            0.0         0.0           1.0   \n",
              "2                  0.00    1.0            0.0         0.0           0.0   \n",
              "3                  0.00    1.0            1.0         0.0           0.0   \n",
              "4                  0.00    0.0            0.0         0.0           1.0   \n",
              "...                 ...    ...            ...         ...           ...   \n",
              "4640047        44681.85    0.0            0.0         0.0           0.0   \n",
              "4640048      5841433.47    0.0            0.0         0.0           0.0   \n",
              "4640049      8948333.34    0.0            0.0         0.0           0.0   \n",
              "4640050      3573522.68    0.0            0.0         0.0           0.0   \n",
              "4640051             NaN    NaN            NaN         NaN           NaN   \n",
              "\n",
              "         Type_TRANSFER  Type2_CM  \n",
              "0                  0.0       1.0  \n",
              "1                  0.0       1.0  \n",
              "2                  1.0       0.0  \n",
              "3                  0.0       0.0  \n",
              "4                  0.0       1.0  \n",
              "...                ...       ...  \n",
              "4640047            0.0       0.0  \n",
              "4640048            0.0       0.0  \n",
              "4640049            0.0       0.0  \n",
              "4640050            0.0       0.0  \n",
              "4640051            NaN       NaN  \n",
              "\n",
              "[4640052 rows x 11 columns]"
            ],
            "text/html": [
              "\n",
              "  <div id=\"df-6870b747-e101-4516-b620-8a86f8dfd9ce\">\n",
              "    <div class=\"colab-df-container\">\n",
              "      <div>\n",
              "<style scoped>\n",
              "    .dataframe tbody tr th:only-of-type {\n",
              "        vertical-align: middle;\n",
              "    }\n",
              "\n",
              "    .dataframe tbody tr th {\n",
              "        vertical-align: top;\n",
              "    }\n",
              "\n",
              "    .dataframe thead th {\n",
              "        text-align: right;\n",
              "    }\n",
              "</style>\n",
              "<table border=\"1\" class=\"dataframe\">\n",
              "  <thead>\n",
              "    <tr style=\"text-align: right;\">\n",
              "      <th></th>\n",
              "      <th>Amount</th>\n",
              "      <th>OldbalanceOrg</th>\n",
              "      <th>NewbalanceOrig</th>\n",
              "      <th>OldbalanceDest</th>\n",
              "      <th>NewbalanceDest</th>\n",
              "      <th>Fraud</th>\n",
              "      <th>Type_CASH_OUT</th>\n",
              "      <th>Type_DEBIT</th>\n",
              "      <th>Type_PAYMENT</th>\n",
              "      <th>Type_TRANSFER</th>\n",
              "      <th>Type2_CM</th>\n",
              "    </tr>\n",
              "  </thead>\n",
              "  <tbody>\n",
              "    <tr>\n",
              "      <th>0</th>\n",
              "      <td>9839.64</td>\n",
              "      <td>170136.00</td>\n",
              "      <td>160296.36</td>\n",
              "      <td>0.00</td>\n",
              "      <td>0.00</td>\n",
              "      <td>0.0</td>\n",
              "      <td>0.0</td>\n",
              "      <td>0.0</td>\n",
              "      <td>1.0</td>\n",
              "      <td>0.0</td>\n",
              "      <td>1.0</td>\n",
              "    </tr>\n",
              "    <tr>\n",
              "      <th>1</th>\n",
              "      <td>1864.28</td>\n",
              "      <td>21249.00</td>\n",
              "      <td>19384.72</td>\n",
              "      <td>0.00</td>\n",
              "      <td>0.00</td>\n",
              "      <td>0.0</td>\n",
              "      <td>0.0</td>\n",
              "      <td>0.0</td>\n",
              "      <td>1.0</td>\n",
              "      <td>0.0</td>\n",
              "      <td>1.0</td>\n",
              "    </tr>\n",
              "    <tr>\n",
              "      <th>2</th>\n",
              "      <td>181.00</td>\n",
              "      <td>181.00</td>\n",
              "      <td>0.00</td>\n",
              "      <td>0.00</td>\n",
              "      <td>0.00</td>\n",
              "      <td>1.0</td>\n",
              "      <td>0.0</td>\n",
              "      <td>0.0</td>\n",
              "      <td>0.0</td>\n",
              "      <td>1.0</td>\n",
              "      <td>0.0</td>\n",
              "    </tr>\n",
              "    <tr>\n",
              "      <th>3</th>\n",
              "      <td>181.00</td>\n",
              "      <td>181.00</td>\n",
              "      <td>0.00</td>\n",
              "      <td>21182.00</td>\n",
              "      <td>0.00</td>\n",
              "      <td>1.0</td>\n",
              "      <td>1.0</td>\n",
              "      <td>0.0</td>\n",
              "      <td>0.0</td>\n",
              "      <td>0.0</td>\n",
              "      <td>0.0</td>\n",
              "    </tr>\n",
              "    <tr>\n",
              "      <th>4</th>\n",
              "      <td>11668.14</td>\n",
              "      <td>41554.00</td>\n",
              "      <td>29885.86</td>\n",
              "      <td>0.00</td>\n",
              "      <td>0.00</td>\n",
              "      <td>0.0</td>\n",
              "      <td>0.0</td>\n",
              "      <td>0.0</td>\n",
              "      <td>1.0</td>\n",
              "      <td>0.0</td>\n",
              "      <td>1.0</td>\n",
              "    </tr>\n",
              "    <tr>\n",
              "      <th>...</th>\n",
              "      <td>...</td>\n",
              "      <td>...</td>\n",
              "      <td>...</td>\n",
              "      <td>...</td>\n",
              "      <td>...</td>\n",
              "      <td>...</td>\n",
              "      <td>...</td>\n",
              "      <td>...</td>\n",
              "      <td>...</td>\n",
              "      <td>...</td>\n",
              "      <td>...</td>\n",
              "    </tr>\n",
              "    <tr>\n",
              "      <th>4640047</th>\n",
              "      <td>19174.01</td>\n",
              "      <td>15862542.60</td>\n",
              "      <td>15881716.61</td>\n",
              "      <td>63855.86</td>\n",
              "      <td>44681.85</td>\n",
              "      <td>0.0</td>\n",
              "      <td>0.0</td>\n",
              "      <td>0.0</td>\n",
              "      <td>0.0</td>\n",
              "      <td>0.0</td>\n",
              "      <td>0.0</td>\n",
              "    </tr>\n",
              "    <tr>\n",
              "      <th>4640048</th>\n",
              "      <td>365371.68</td>\n",
              "      <td>15881716.61</td>\n",
              "      <td>16247088.29</td>\n",
              "      <td>6206805.15</td>\n",
              "      <td>5841433.47</td>\n",
              "      <td>0.0</td>\n",
              "      <td>0.0</td>\n",
              "      <td>0.0</td>\n",
              "      <td>0.0</td>\n",
              "      <td>0.0</td>\n",
              "      <td>0.0</td>\n",
              "    </tr>\n",
              "    <tr>\n",
              "      <th>4640049</th>\n",
              "      <td>274177.98</td>\n",
              "      <td>16247088.29</td>\n",
              "      <td>16521266.28</td>\n",
              "      <td>9222511.32</td>\n",
              "      <td>8948333.34</td>\n",
              "      <td>0.0</td>\n",
              "      <td>0.0</td>\n",
              "      <td>0.0</td>\n",
              "      <td>0.0</td>\n",
              "      <td>0.0</td>\n",
              "      <td>0.0</td>\n",
              "    </tr>\n",
              "    <tr>\n",
              "      <th>4640050</th>\n",
              "      <td>239361.79</td>\n",
              "      <td>16521266.28</td>\n",
              "      <td>16760628.07</td>\n",
              "      <td>3812884.47</td>\n",
              "      <td>3573522.68</td>\n",
              "      <td>0.0</td>\n",
              "      <td>0.0</td>\n",
              "      <td>0.0</td>\n",
              "      <td>0.0</td>\n",
              "      <td>0.0</td>\n",
              "      <td>0.0</td>\n",
              "    </tr>\n",
              "    <tr>\n",
              "      <th>4640051</th>\n",
              "      <td>118908.47</td>\n",
              "      <td>16.00</td>\n",
              "      <td>NaN</td>\n",
              "      <td>NaN</td>\n",
              "      <td>NaN</td>\n",
              "      <td>NaN</td>\n",
              "      <td>NaN</td>\n",
              "      <td>NaN</td>\n",
              "      <td>NaN</td>\n",
              "      <td>NaN</td>\n",
              "      <td>NaN</td>\n",
              "    </tr>\n",
              "  </tbody>\n",
              "</table>\n",
              "<p>4640052 rows × 11 columns</p>\n",
              "</div>\n",
              "      <button class=\"colab-df-convert\" onclick=\"convertToInteractive('df-6870b747-e101-4516-b620-8a86f8dfd9ce')\"\n",
              "              title=\"Convert this dataframe to an interactive table.\"\n",
              "              style=\"display:none;\">\n",
              "        \n",
              "  <svg xmlns=\"http://www.w3.org/2000/svg\" height=\"24px\"viewBox=\"0 0 24 24\"\n",
              "       width=\"24px\">\n",
              "    <path d=\"M0 0h24v24H0V0z\" fill=\"none\"/>\n",
              "    <path d=\"M18.56 5.44l.94 2.06.94-2.06 2.06-.94-2.06-.94-.94-2.06-.94 2.06-2.06.94zm-11 1L8.5 8.5l.94-2.06 2.06-.94-2.06-.94L8.5 2.5l-.94 2.06-2.06.94zm10 10l.94 2.06.94-2.06 2.06-.94-2.06-.94-.94-2.06-.94 2.06-2.06.94z\"/><path d=\"M17.41 7.96l-1.37-1.37c-.4-.4-.92-.59-1.43-.59-.52 0-1.04.2-1.43.59L10.3 9.45l-7.72 7.72c-.78.78-.78 2.05 0 2.83L4 21.41c.39.39.9.59 1.41.59.51 0 1.02-.2 1.41-.59l7.78-7.78 2.81-2.81c.8-.78.8-2.07 0-2.86zM5.41 20L4 18.59l7.72-7.72 1.47 1.35L5.41 20z\"/>\n",
              "  </svg>\n",
              "      </button>\n",
              "      \n",
              "  <style>\n",
              "    .colab-df-container {\n",
              "      display:flex;\n",
              "      flex-wrap:wrap;\n",
              "      gap: 12px;\n",
              "    }\n",
              "\n",
              "    .colab-df-convert {\n",
              "      background-color: #E8F0FE;\n",
              "      border: none;\n",
              "      border-radius: 50%;\n",
              "      cursor: pointer;\n",
              "      display: none;\n",
              "      fill: #1967D2;\n",
              "      height: 32px;\n",
              "      padding: 0 0 0 0;\n",
              "      width: 32px;\n",
              "    }\n",
              "\n",
              "    .colab-df-convert:hover {\n",
              "      background-color: #E2EBFA;\n",
              "      box-shadow: 0px 1px 2px rgba(60, 64, 67, 0.3), 0px 1px 3px 1px rgba(60, 64, 67, 0.15);\n",
              "      fill: #174EA6;\n",
              "    }\n",
              "\n",
              "    [theme=dark] .colab-df-convert {\n",
              "      background-color: #3B4455;\n",
              "      fill: #D2E3FC;\n",
              "    }\n",
              "\n",
              "    [theme=dark] .colab-df-convert:hover {\n",
              "      background-color: #434B5C;\n",
              "      box-shadow: 0px 1px 3px 1px rgba(0, 0, 0, 0.15);\n",
              "      filter: drop-shadow(0px 1px 2px rgba(0, 0, 0, 0.3));\n",
              "      fill: #FFFFFF;\n",
              "    }\n",
              "  </style>\n",
              "\n",
              "      <script>\n",
              "        const buttonEl =\n",
              "          document.querySelector('#df-6870b747-e101-4516-b620-8a86f8dfd9ce button.colab-df-convert');\n",
              "        buttonEl.style.display =\n",
              "          google.colab.kernel.accessAllowed ? 'block' : 'none';\n",
              "\n",
              "        async function convertToInteractive(key) {\n",
              "          const element = document.querySelector('#df-6870b747-e101-4516-b620-8a86f8dfd9ce');\n",
              "          const dataTable =\n",
              "            await google.colab.kernel.invokeFunction('convertToInteractive',\n",
              "                                                     [key], {});\n",
              "          if (!dataTable) return;\n",
              "\n",
              "          const docLinkHtml = 'Like what you see? Visit the ' +\n",
              "            '<a target=\"_blank\" href=https://colab.research.google.com/notebooks/data_table.ipynb>data table notebook</a>'\n",
              "            + ' to learn more about interactive tables.';\n",
              "          element.innerHTML = '';\n",
              "          dataTable['output_type'] = 'display_data';\n",
              "          await google.colab.output.renderOutput(dataTable, element);\n",
              "          const docLink = document.createElement('div');\n",
              "          docLink.innerHTML = docLinkHtml;\n",
              "          element.appendChild(docLink);\n",
              "        }\n",
              "      </script>\n",
              "    </div>\n",
              "  </div>\n",
              "  "
            ]
          },
          "metadata": {},
          "execution_count": 16
        }
      ]
    },
    {
      "cell_type": "code",
      "source": [
        "data = data.dropna()\n",
        "data"
      ],
      "metadata": {
        "id": "TrPUylYZbcXw",
        "colab": {
          "base_uri": "https://localhost:8080/",
          "height": 488
        },
        "outputId": "9e08408a-086e-47e0-901b-ca7a18f35ef7"
      },
      "execution_count": 17,
      "outputs": [
        {
          "output_type": "execute_result",
          "data": {
            "text/plain": [
              "            Amount  OldbalanceOrg  NewbalanceOrig  OldbalanceDest  \\\n",
              "0          9839.64      170136.00       160296.36            0.00   \n",
              "1          1864.28       21249.00        19384.72            0.00   \n",
              "2           181.00         181.00            0.00            0.00   \n",
              "3           181.00         181.00            0.00        21182.00   \n",
              "4         11668.14       41554.00        29885.86            0.00   \n",
              "...            ...            ...             ...             ...   \n",
              "4640046  179655.19    15682887.41     15862542.60      7254188.99   \n",
              "4640047   19174.01    15862542.60     15881716.61        63855.86   \n",
              "4640048  365371.68    15881716.61     16247088.29      6206805.15   \n",
              "4640049  274177.98    16247088.29     16521266.28      9222511.32   \n",
              "4640050  239361.79    16521266.28     16760628.07      3812884.47   \n",
              "\n",
              "         NewbalanceDest  Fraud  Type_CASH_OUT  Type_DEBIT  Type_PAYMENT  \\\n",
              "0                  0.00    0.0            0.0         0.0           1.0   \n",
              "1                  0.00    0.0            0.0         0.0           1.0   \n",
              "2                  0.00    1.0            0.0         0.0           0.0   \n",
              "3                  0.00    1.0            1.0         0.0           0.0   \n",
              "4                  0.00    0.0            0.0         0.0           1.0   \n",
              "...                 ...    ...            ...         ...           ...   \n",
              "4640046      7074533.79    0.0            0.0         0.0           0.0   \n",
              "4640047        44681.85    0.0            0.0         0.0           0.0   \n",
              "4640048      5841433.47    0.0            0.0         0.0           0.0   \n",
              "4640049      8948333.34    0.0            0.0         0.0           0.0   \n",
              "4640050      3573522.68    0.0            0.0         0.0           0.0   \n",
              "\n",
              "         Type_TRANSFER  Type2_CM  \n",
              "0                  0.0       1.0  \n",
              "1                  0.0       1.0  \n",
              "2                  1.0       0.0  \n",
              "3                  0.0       0.0  \n",
              "4                  0.0       1.0  \n",
              "...                ...       ...  \n",
              "4640046            0.0       0.0  \n",
              "4640047            0.0       0.0  \n",
              "4640048            0.0       0.0  \n",
              "4640049            0.0       0.0  \n",
              "4640050            0.0       0.0  \n",
              "\n",
              "[4640051 rows x 11 columns]"
            ],
            "text/html": [
              "\n",
              "  <div id=\"df-f39cd494-ae57-4c36-b14a-692e94b35da7\">\n",
              "    <div class=\"colab-df-container\">\n",
              "      <div>\n",
              "<style scoped>\n",
              "    .dataframe tbody tr th:only-of-type {\n",
              "        vertical-align: middle;\n",
              "    }\n",
              "\n",
              "    .dataframe tbody tr th {\n",
              "        vertical-align: top;\n",
              "    }\n",
              "\n",
              "    .dataframe thead th {\n",
              "        text-align: right;\n",
              "    }\n",
              "</style>\n",
              "<table border=\"1\" class=\"dataframe\">\n",
              "  <thead>\n",
              "    <tr style=\"text-align: right;\">\n",
              "      <th></th>\n",
              "      <th>Amount</th>\n",
              "      <th>OldbalanceOrg</th>\n",
              "      <th>NewbalanceOrig</th>\n",
              "      <th>OldbalanceDest</th>\n",
              "      <th>NewbalanceDest</th>\n",
              "      <th>Fraud</th>\n",
              "      <th>Type_CASH_OUT</th>\n",
              "      <th>Type_DEBIT</th>\n",
              "      <th>Type_PAYMENT</th>\n",
              "      <th>Type_TRANSFER</th>\n",
              "      <th>Type2_CM</th>\n",
              "    </tr>\n",
              "  </thead>\n",
              "  <tbody>\n",
              "    <tr>\n",
              "      <th>0</th>\n",
              "      <td>9839.64</td>\n",
              "      <td>170136.00</td>\n",
              "      <td>160296.36</td>\n",
              "      <td>0.00</td>\n",
              "      <td>0.00</td>\n",
              "      <td>0.0</td>\n",
              "      <td>0.0</td>\n",
              "      <td>0.0</td>\n",
              "      <td>1.0</td>\n",
              "      <td>0.0</td>\n",
              "      <td>1.0</td>\n",
              "    </tr>\n",
              "    <tr>\n",
              "      <th>1</th>\n",
              "      <td>1864.28</td>\n",
              "      <td>21249.00</td>\n",
              "      <td>19384.72</td>\n",
              "      <td>0.00</td>\n",
              "      <td>0.00</td>\n",
              "      <td>0.0</td>\n",
              "      <td>0.0</td>\n",
              "      <td>0.0</td>\n",
              "      <td>1.0</td>\n",
              "      <td>0.0</td>\n",
              "      <td>1.0</td>\n",
              "    </tr>\n",
              "    <tr>\n",
              "      <th>2</th>\n",
              "      <td>181.00</td>\n",
              "      <td>181.00</td>\n",
              "      <td>0.00</td>\n",
              "      <td>0.00</td>\n",
              "      <td>0.00</td>\n",
              "      <td>1.0</td>\n",
              "      <td>0.0</td>\n",
              "      <td>0.0</td>\n",
              "      <td>0.0</td>\n",
              "      <td>1.0</td>\n",
              "      <td>0.0</td>\n",
              "    </tr>\n",
              "    <tr>\n",
              "      <th>3</th>\n",
              "      <td>181.00</td>\n",
              "      <td>181.00</td>\n",
              "      <td>0.00</td>\n",
              "      <td>21182.00</td>\n",
              "      <td>0.00</td>\n",
              "      <td>1.0</td>\n",
              "      <td>1.0</td>\n",
              "      <td>0.0</td>\n",
              "      <td>0.0</td>\n",
              "      <td>0.0</td>\n",
              "      <td>0.0</td>\n",
              "    </tr>\n",
              "    <tr>\n",
              "      <th>4</th>\n",
              "      <td>11668.14</td>\n",
              "      <td>41554.00</td>\n",
              "      <td>29885.86</td>\n",
              "      <td>0.00</td>\n",
              "      <td>0.00</td>\n",
              "      <td>0.0</td>\n",
              "      <td>0.0</td>\n",
              "      <td>0.0</td>\n",
              "      <td>1.0</td>\n",
              "      <td>0.0</td>\n",
              "      <td>1.0</td>\n",
              "    </tr>\n",
              "    <tr>\n",
              "      <th>...</th>\n",
              "      <td>...</td>\n",
              "      <td>...</td>\n",
              "      <td>...</td>\n",
              "      <td>...</td>\n",
              "      <td>...</td>\n",
              "      <td>...</td>\n",
              "      <td>...</td>\n",
              "      <td>...</td>\n",
              "      <td>...</td>\n",
              "      <td>...</td>\n",
              "      <td>...</td>\n",
              "    </tr>\n",
              "    <tr>\n",
              "      <th>4640046</th>\n",
              "      <td>179655.19</td>\n",
              "      <td>15682887.41</td>\n",
              "      <td>15862542.60</td>\n",
              "      <td>7254188.99</td>\n",
              "      <td>7074533.79</td>\n",
              "      <td>0.0</td>\n",
              "      <td>0.0</td>\n",
              "      <td>0.0</td>\n",
              "      <td>0.0</td>\n",
              "      <td>0.0</td>\n",
              "      <td>0.0</td>\n",
              "    </tr>\n",
              "    <tr>\n",
              "      <th>4640047</th>\n",
              "      <td>19174.01</td>\n",
              "      <td>15862542.60</td>\n",
              "      <td>15881716.61</td>\n",
              "      <td>63855.86</td>\n",
              "      <td>44681.85</td>\n",
              "      <td>0.0</td>\n",
              "      <td>0.0</td>\n",
              "      <td>0.0</td>\n",
              "      <td>0.0</td>\n",
              "      <td>0.0</td>\n",
              "      <td>0.0</td>\n",
              "    </tr>\n",
              "    <tr>\n",
              "      <th>4640048</th>\n",
              "      <td>365371.68</td>\n",
              "      <td>15881716.61</td>\n",
              "      <td>16247088.29</td>\n",
              "      <td>6206805.15</td>\n",
              "      <td>5841433.47</td>\n",
              "      <td>0.0</td>\n",
              "      <td>0.0</td>\n",
              "      <td>0.0</td>\n",
              "      <td>0.0</td>\n",
              "      <td>0.0</td>\n",
              "      <td>0.0</td>\n",
              "    </tr>\n",
              "    <tr>\n",
              "      <th>4640049</th>\n",
              "      <td>274177.98</td>\n",
              "      <td>16247088.29</td>\n",
              "      <td>16521266.28</td>\n",
              "      <td>9222511.32</td>\n",
              "      <td>8948333.34</td>\n",
              "      <td>0.0</td>\n",
              "      <td>0.0</td>\n",
              "      <td>0.0</td>\n",
              "      <td>0.0</td>\n",
              "      <td>0.0</td>\n",
              "      <td>0.0</td>\n",
              "    </tr>\n",
              "    <tr>\n",
              "      <th>4640050</th>\n",
              "      <td>239361.79</td>\n",
              "      <td>16521266.28</td>\n",
              "      <td>16760628.07</td>\n",
              "      <td>3812884.47</td>\n",
              "      <td>3573522.68</td>\n",
              "      <td>0.0</td>\n",
              "      <td>0.0</td>\n",
              "      <td>0.0</td>\n",
              "      <td>0.0</td>\n",
              "      <td>0.0</td>\n",
              "      <td>0.0</td>\n",
              "    </tr>\n",
              "  </tbody>\n",
              "</table>\n",
              "<p>4640051 rows × 11 columns</p>\n",
              "</div>\n",
              "      <button class=\"colab-df-convert\" onclick=\"convertToInteractive('df-f39cd494-ae57-4c36-b14a-692e94b35da7')\"\n",
              "              title=\"Convert this dataframe to an interactive table.\"\n",
              "              style=\"display:none;\">\n",
              "        \n",
              "  <svg xmlns=\"http://www.w3.org/2000/svg\" height=\"24px\"viewBox=\"0 0 24 24\"\n",
              "       width=\"24px\">\n",
              "    <path d=\"M0 0h24v24H0V0z\" fill=\"none\"/>\n",
              "    <path d=\"M18.56 5.44l.94 2.06.94-2.06 2.06-.94-2.06-.94-.94-2.06-.94 2.06-2.06.94zm-11 1L8.5 8.5l.94-2.06 2.06-.94-2.06-.94L8.5 2.5l-.94 2.06-2.06.94zm10 10l.94 2.06.94-2.06 2.06-.94-2.06-.94-.94-2.06-.94 2.06-2.06.94z\"/><path d=\"M17.41 7.96l-1.37-1.37c-.4-.4-.92-.59-1.43-.59-.52 0-1.04.2-1.43.59L10.3 9.45l-7.72 7.72c-.78.78-.78 2.05 0 2.83L4 21.41c.39.39.9.59 1.41.59.51 0 1.02-.2 1.41-.59l7.78-7.78 2.81-2.81c.8-.78.8-2.07 0-2.86zM5.41 20L4 18.59l7.72-7.72 1.47 1.35L5.41 20z\"/>\n",
              "  </svg>\n",
              "      </button>\n",
              "      \n",
              "  <style>\n",
              "    .colab-df-container {\n",
              "      display:flex;\n",
              "      flex-wrap:wrap;\n",
              "      gap: 12px;\n",
              "    }\n",
              "\n",
              "    .colab-df-convert {\n",
              "      background-color: #E8F0FE;\n",
              "      border: none;\n",
              "      border-radius: 50%;\n",
              "      cursor: pointer;\n",
              "      display: none;\n",
              "      fill: #1967D2;\n",
              "      height: 32px;\n",
              "      padding: 0 0 0 0;\n",
              "      width: 32px;\n",
              "    }\n",
              "\n",
              "    .colab-df-convert:hover {\n",
              "      background-color: #E2EBFA;\n",
              "      box-shadow: 0px 1px 2px rgba(60, 64, 67, 0.3), 0px 1px 3px 1px rgba(60, 64, 67, 0.15);\n",
              "      fill: #174EA6;\n",
              "    }\n",
              "\n",
              "    [theme=dark] .colab-df-convert {\n",
              "      background-color: #3B4455;\n",
              "      fill: #D2E3FC;\n",
              "    }\n",
              "\n",
              "    [theme=dark] .colab-df-convert:hover {\n",
              "      background-color: #434B5C;\n",
              "      box-shadow: 0px 1px 3px 1px rgba(0, 0, 0, 0.15);\n",
              "      filter: drop-shadow(0px 1px 2px rgba(0, 0, 0, 0.3));\n",
              "      fill: #FFFFFF;\n",
              "    }\n",
              "  </style>\n",
              "\n",
              "      <script>\n",
              "        const buttonEl =\n",
              "          document.querySelector('#df-f39cd494-ae57-4c36-b14a-692e94b35da7 button.colab-df-convert');\n",
              "        buttonEl.style.display =\n",
              "          google.colab.kernel.accessAllowed ? 'block' : 'none';\n",
              "\n",
              "        async function convertToInteractive(key) {\n",
              "          const element = document.querySelector('#df-f39cd494-ae57-4c36-b14a-692e94b35da7');\n",
              "          const dataTable =\n",
              "            await google.colab.kernel.invokeFunction('convertToInteractive',\n",
              "                                                     [key], {});\n",
              "          if (!dataTable) return;\n",
              "\n",
              "          const docLinkHtml = 'Like what you see? Visit the ' +\n",
              "            '<a target=\"_blank\" href=https://colab.research.google.com/notebooks/data_table.ipynb>data table notebook</a>'\n",
              "            + ' to learn more about interactive tables.';\n",
              "          element.innerHTML = '';\n",
              "          dataTable['output_type'] = 'display_data';\n",
              "          await google.colab.output.renderOutput(dataTable, element);\n",
              "          const docLink = document.createElement('div');\n",
              "          docLink.innerHTML = docLinkHtml;\n",
              "          element.appendChild(docLink);\n",
              "        }\n",
              "      </script>\n",
              "    </div>\n",
              "  </div>\n",
              "  "
            ]
          },
          "metadata": {},
          "execution_count": 17
        }
      ]
    },
    {
      "cell_type": "code",
      "source": [
        "# class count\n",
        "class_count_0, class_count_1 = data['Fraud'].value_counts()\n",
        "\n",
        "# Separate class\n",
        "class_0 = data[data['Fraud'] == 0]\n",
        "class_1 = data[data['Fraud'] == 1]# print the shape of the class\n",
        "print('Fraud 0:', class_0.shape)\n",
        "print('Fraud 1:', class_1.shape)"
      ],
      "metadata": {
        "id": "VR6iHCGkbcUr",
        "colab": {
          "base_uri": "https://localhost:8080/"
        },
        "outputId": "5e4ba3b8-b21c-4fa7-ad1a-0eb002f24315"
      },
      "execution_count": 18,
      "outputs": [
        {
          "output_type": "stream",
          "name": "stdout",
          "text": [
            "Fraud 0: (4636338, 11)\n",
            "Fraud 1: (3713, 11)\n"
          ]
        }
      ]
    },
    {
      "cell_type": "code",
      "source": [
        "class_0_under = class_0.sample(class_count_1)\n",
        "\n",
        "test_under = pd.concat([class_0_under, class_1], axis=0)\n",
        "\n",
        "print(\"total Fraud of 1 and 0:\",test_under['Fraud'].value_counts())# plot the count after under-sampeling\n",
        "test_under['Fraud'].value_counts().plot(kind='bar', title='count (target)')"
      ],
      "metadata": {
        "id": "lnvVId0jd91s",
        "colab": {
          "base_uri": "https://localhost:8080/",
          "height": 356
        },
        "outputId": "210fe7b6-1a43-4d29-c320-f51d849aa21c"
      },
      "execution_count": 19,
      "outputs": [
        {
          "output_type": "stream",
          "name": "stdout",
          "text": [
            "total Fraud of 1 and 0: 0.0    3713\n",
            "1.0    3713\n",
            "Name: Fraud, dtype: int64\n"
          ]
        },
        {
          "output_type": "execute_result",
          "data": {
            "text/plain": [
              "<matplotlib.axes._subplots.AxesSubplot at 0x7fac50deeeb0>"
            ]
          },
          "metadata": {},
          "execution_count": 19
        },
        {
          "output_type": "display_data",
          "data": {
            "text/plain": [
              "<Figure size 432x288 with 1 Axes>"
            ],
            "image/png": "[encoded data removed]"
          },
          "metadata": {
            "needs_background": "light"
          }
        }
      ]
    },
    {
      "cell_type": "code",
      "source": [
        "y = test_under.Fraud\n",
        "X = test_under.drop(columns = ['Fraud'])\n"
      ],
      "metadata": {
        "id": "uBZCDsGKeI6l"
      },
      "execution_count": 20,
      "outputs": []
    },
    {
      "cell_type": "code",
      "source": [
        "y"
      ],
      "metadata": {
        "id": "hrnkVb0keNOI",
        "colab": {
          "base_uri": "https://localhost:8080/"
        },
        "outputId": "84bfc9a3-dab4-4abb-aea9-f30f59128586"
      },
      "execution_count": 21,
      "outputs": [
        {
          "output_type": "execute_result",
          "data": {
            "text/plain": [
              "4375749    0.0\n",
              "3469259    0.0\n",
              "548519     0.0\n",
              "3934085    0.0\n",
              "2900717    0.0\n",
              "          ... \n",
              "4622135    1.0\n",
              "4623394    1.0\n",
              "4623395    1.0\n",
              "4632918    1.0\n",
              "4632919    1.0\n",
              "Name: Fraud, Length: 7426, dtype: float64"
            ]
          },
          "metadata": {},
          "execution_count": 21
        }
      ]
    },
    {
      "cell_type": "code",
      "source": [
        "X_train, X_test, y_train, y_test = train_test_split(X, y, test_size=0.3, random_state=0)"
      ],
      "metadata": {
        "id": "h8qdI_KfeNjm"
      },
      "execution_count": 22,
      "outputs": []
    },
    {
      "cell_type": "code",
      "source": [
        "log_model = LogisticRegression(max_iter=1000)\n",
        "log_model.fit(X_train,y_train)\n",
        "preds = log_model.predict(X_test)\n",
        "print(classification_report(y_test,preds))\n"
      ],
      "metadata": {
        "id": "-ZUm0Lx8khUe",
        "outputId": "009592c8-a50d-4525-bfe6-a12918a6d6a5",
        "colab": {
          "base_uri": "https://localhost:8080/"
        }
      },
      "execution_count": 23,
      "outputs": [
        {
          "output_type": "stream",
          "name": "stdout",
          "text": [
            "              precision    recall  f1-score   support\n",
            "\n",
            "         0.0       0.97      0.88      0.93      1121\n",
            "         1.0       0.89      0.97      0.93      1107\n",
            "\n",
            "    accuracy                           0.93      2228\n",
            "   macro avg       0.93      0.93      0.93      2228\n",
            "weighted avg       0.93      0.93      0.93      2228\n",
            "\n"
          ]
        }
      ]
    },
    {
      "cell_type": "code",
      "source": [
        "# Saving our model \n",
        "file_name = 'model.pkl'\n",
        "\n",
        "with open(file_name, 'wb') as file:\n",
        "    pickle.dump(log_model,file)\n"
      ],
      "metadata": {
        "id": "Bh5SLUBtkhGD"
      },
      "execution_count": 24,
      "outputs": []
    },
    {
      "cell_type": "code",
      "source": [
        "data.columns[0:]"
      ],
      "metadata": {
        "colab": {
          "base_uri": "https://localhost:8080/"
        },
        "id": "MOErO2GwPuzW",
        "outputId": "5b9d4544-8b87-4e21-e08f-fd274d754798"
      },
      "execution_count": 25,
      "outputs": [
        {
          "output_type": "execute_result",
          "data": {
            "text/plain": [
              "Index(['Amount', 'OldbalanceOrg', 'NewbalanceOrig', 'OldbalanceDest',\n",
              "       'NewbalanceDest', 'Fraud', 'Type_CASH_OUT', 'Type_DEBIT',\n",
              "       'Type_PAYMENT', 'Type_TRANSFER', 'Type2_CM'],\n",
              "      dtype='object')"
            ]
          },
          "metadata": {},
          "execution_count": 25
        }
      ]
    },
    {
      "cell_type": "code",
      "source": [
        "data.dtypes\n"
      ],
      "metadata": {
        "colab": {
          "base_uri": "https://localhost:8080/"
        },
        "id": "VeX7HE1FPGo8",
        "outputId": "6acb7131-573e-41ab-b8c0-b3dde687f4b0"
      },
      "execution_count": 26,
      "outputs": [
        {
          "output_type": "execute_result",
          "data": {
            "text/plain": [
              "Amount            float64\n",
              "OldbalanceOrg     float64\n",
              "NewbalanceOrig    float64\n",
              "OldbalanceDest    float64\n",
              "NewbalanceDest    float64\n",
              "Fraud             float64\n",
              "Type_CASH_OUT     float64\n",
              "Type_DEBIT        float64\n",
              "Type_PAYMENT      float64\n",
              "Type_TRANSFER     float64\n",
              "Type2_CM          float64\n",
              "dtype: object"
            ]
          },
          "metadata": {},
          "execution_count": 26
        }
      ]
    },
    {
      "cell_type": "code",
      "source": [
        "\n",
        "# Results might differ \n",
        "\n",
        "example1 = [2200,1250,1233,2120,0,0,0,0,1,1] # -> 1\n",
        "example2 = [3200,1500,10000,100000,12000,1,1,0,0,0] # -> 0\n"
      ],
      "metadata": {
        "id": "Ox0TfLH0KZze"
      },
      "execution_count": 27,
      "outputs": []
    },
    {
      "cell_type": "code",
      "source": [
        "\n",
        "data_arr = np.array(example1)\n",
        "data_arr = np.array(example2)\n",
        "\n",
        "data_arr = data_arr.reshape(1,-1)\n",
        "\n",
        "log_model.predict(data_arr)"
      ],
      "metadata": {
        "colab": {
          "base_uri": "https://localhost:8080/"
        },
        "id": "yT2kR95XKcvk",
        "outputId": "e3cd7773-fcb3-4a8f-bbd6-f3bd96bf7b80"
      },
      "execution_count": 28,
      "outputs": [
        {
          "output_type": "stream",
          "name": "stderr",
          "text": [
            "/usr/local/lib/python3.8/dist-packages/sklearn/base.py:450: UserWarning: X does not have valid feature names, but LogisticRegression was fitted with feature names\n",
            "  warnings.warn(\n"
          ]
        },
        {
          "output_type": "execute_result",
          "data": {
            "text/plain": [
              "array([0.])"
            ]
          },
          "metadata": {},
          "execution_count": 28
        }
      ]
    },
    {
      "cell_type": "code",
      "source": [],
      "metadata": {
        "id": "Kn2fu7DuK-QL"
      },
      "execution_count": 28,
      "outputs": []
    }
  ]
}